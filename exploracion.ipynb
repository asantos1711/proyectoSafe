{
 "cells": [
  {
   "attachments": {},
   "cell_type": "markdown",
   "id": "e39009ab",
   "metadata": {},
   "source": [
    "# Exploración"
   ]
  },
  {
   "cell_type": "code",
   "execution_count": 10,
   "id": "71522b6a",
   "metadata": {},
   "outputs": [],
   "source": [
    "import pandas as pd\n",
    "import numpy as np\n",
    "import random"
   ]
  },
  {
   "cell_type": "code",
   "execution_count": 13,
   "id": "0b9fc93e",
   "metadata": {},
   "outputs": [],
   "source": [
    "h1csv = pd.read_csv(\"H1.csv\")\n",
    "h2csv = pd.read_csv(\"H2.csv\")\n",
    "\n",
    "h1df = pd.DataFrame(h1csv)\n",
    "h2df = pd.DataFrame(h2csv)"
   ]
  },
  {
   "cell_type": "code",
   "execution_count": null,
   "id": "6ebb93b8",
   "metadata": {},
   "outputs": [],
   "source": []
  }
 ],
 "metadata": {
  "kernelspec": {
   "display_name": "Python 3 (ipykernel)",
   "language": "python",
   "name": "python3"
  },
  "language_info": {
   "codemirror_mode": {
    "name": "ipython",
    "version": 3
   },
   "file_extension": ".py",
   "mimetype": "text/x-python",
   "name": "python",
   "nbconvert_exporter": "python",
   "pygments_lexer": "ipython3",
   "version": "3.10.10"
  }
 },
 "nbformat": 4,
 "nbformat_minor": 5
}
